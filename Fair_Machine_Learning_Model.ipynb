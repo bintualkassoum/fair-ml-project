{
  "nbformat": 4,
  "nbformat_minor": 0,
  "metadata": {
    "colab": {
      "name": "Fair Machine Learning Model",
      "provenance": [],
      "mount_file_id": "13LZDGjYWxC2jOXdx6u3JGH5NmWtJl6Np",
      "authorship_tag": "ABX9TyMYmRv/bGXITDBmreLd8Ydb",
      "include_colab_link": true
    },
    "kernelspec": {
      "name": "python3",
      "display_name": "Python 3"
    },
    "language_info": {
      "name": "python"
    }
  },
  "cells": [
    {
      "cell_type": "markdown",
      "metadata": {
        "id": "view-in-github",
        "colab_type": "text"
      },
      "source": [
        "<a href=\"https://colab.research.google.com/github/bintualkassoum/fair-ml-project/blob/main/Fair_Machine_Learning_Model.ipynb\" target=\"_parent\"><img src=\"https://colab.research.google.com/assets/colab-badge.svg\" alt=\"Open In Colab\"/></a>"
      ]
    },
    {
      "cell_type": "markdown",
      "source": [
        "#Project Description "
      ],
      "metadata": {
        "id": "8lzzSRjfM-g3"
      }
    },
    {
      "cell_type": "markdown",
      "source": [
        "#Data\n",
        "The Challenge uses data on roughly 26,000 individuals from the State of Georgia released from Georgia prisons on discretionary parole to the custody of the Georgia Department of Community Supervision (GDCS) for the purpose of post-incarceration supervision between January 1, 2013 and December 31, 2015. \n",
        "\n",
        "This dataset is split into two sets, training and test. We used a 70/30 split, indicating that 70% of the data is in the training dataset and 30% in the test dataset. \n",
        "\n",
        "##Training Set \n",
        "The training dataset includes the four dichotomous dependent variables measuring if an individual recidivated in the three-year follow-up period (yes/no) as well as recidivated by time period (year 1, year 2, or year 3). \n",
        "\n",
        "##Test Sets\n",
        "The second test set contains only those individuals that did not recidivate year 1, while the third contains only those who did not recidivate in year 1 and 2\n",
        "\n",
        "##Recidivism Measurement \n",
        "Recidivism is measured as an arrest for a new felony or misdemeanor crime within three years of the supervision start date. The test dataset does not include the four dependent variables. \n",
        "\n",
        "##Additional Info\n",
        "Arrest episodes with multiple charges are described in this data by the most serious charge. The exception is criminal history domestic violence and gun charges, which count all charges across all episodes. GCIC data also provides the recidivism measure, defined as a new felony or misdemeanor arrest episode within three years of parole supervision start date."
      ],
      "metadata": {
        "id": "8AhRr9ZfNCwe"
      }
    },
    {
      "cell_type": "markdown",
      "source": [
        "#Date Pre-Processing"
      ],
      "metadata": {
        "id": "VzcMX4BQN39I"
      }
    },
    {
      "cell_type": "markdown",
      "source": [
        "##Import Packages"
      ],
      "metadata": {
        "id": "eCzo9bqXN6Us"
      }
    },
    {
      "cell_type": "code",
      "execution_count": null,
      "metadata": {
        "id": "iEyLqNmOMkb8"
      },
      "outputs": [],
      "source": [
        "# Import Packages\n",
        "\n",
        "%matplotlib inline\n",
        "\n",
        "import pandas as pd\n",
        "import numpy as np\n",
        "import sklearn \n",
        "from sklearn import preprocessing \n",
        "\n",
        "# Visualizations \n",
        "import matplotlib.pyplot as plt\n",
        "import seaborn as sns\n",
        "\n",
        "# Standard plotly imports\n",
        "! pip install plotly \n",
        "! pip install chart-studio\n",
        "import chart_studio.plotly as py\n",
        "import plotly.graph_objs as go\n",
        "from plotly.offline import iplot, init_notebook_mode\n",
        "\n",
        "# Using plotly + cufflinks in offline mode\n",
        "! pip install cufflinks --upgrade\n",
        "import cufflinks as cf\n",
        "cf.go_offline()\n",
        "cf.set_config_file(offline=False, world_readable=True)\n",
        "\n",
        "import plotly.io as pio\n",
        "pio.renderers.default = \"colab\""
      ]
    },
    {
      "cell_type": "code",
      "source": [
        "# Load Data \n",
        "from google.colab import drive \n",
        "\n",
        "drive.mount('/content/drive')\n",
        "\n",
        "full = pd.read_csv('/content/drive/MyDrive/Grad School/Misc/Fair Machine Learning (COMPAS)/Data/NIJ_s_Recidivism_Challenge_Full_Dataset.csv')\n",
        "\n",
        "train = pd.read_csv('/content/drive/MyDrive/Grad School/Misc/Fair Machine Learning (COMPAS)/Data/NIJ_s_Recidivism_Challenge_Training_Dataset.csv')\n",
        "\n",
        "test1 = pd.read_csv('/content/drive/MyDrive/Grad School/Misc/Fair Machine Learning (COMPAS)/Data/NIJ_s_Recidivism_Challenge_Test_Dataset1.csv')\n",
        "\n",
        "test2 = pd.read_csv('/content/drive/MyDrive/Grad School/Misc/Fair Machine Learning (COMPAS)/Data/NIJ_s_Recidivism_Challenge_Test_Dataset2.csv') \n",
        "\n",
        "test3 = pd.read_csv('/content/drive/MyDrive/Grad School/Misc/Fair Machine Learning (COMPAS)/Data/NIJ_s_Recidivism_Challenge_Test_Dataset3.csv')"
      ],
      "metadata": {
        "colab": {
          "base_uri": "https://localhost:8080/"
        },
        "id": "uXQrkX_91-ft",
        "outputId": "8df6f47b-3218-47b2-a837-86d4ec8e0198"
      },
      "execution_count": 158,
      "outputs": [
        {
          "output_type": "stream",
          "name": "stdout",
          "text": [
            "Drive already mounted at /content/drive; to attempt to forcibly remount, call drive.mount(\"/content/drive\", force_remount=True).\n"
          ]
        }
      ]
    },
    {
      "cell_type": "markdown",
      "source": [
        "#Exploratory Analysis - Raw Data "
      ],
      "metadata": {
        "id": "K4FKOwF6VdnW"
      }
    },
    {
      "cell_type": "markdown",
      "source": [
        "## Analyze Data "
      ],
      "metadata": {
        "id": "ZZhb6cFMVgmw"
      }
    },
    {
      "cell_type": "code",
      "source": [
        "full.head()"
      ],
      "metadata": {
        "id": "JdwZHWQBb5bL"
      },
      "execution_count": null,
      "outputs": []
    },
    {
      "cell_type": "code",
      "source": [
        "# Check Data Shape \n",
        "print(full.shape)\n",
        "\n",
        "print(train.shape)\n",
        "\n",
        "print(test1.shape)\n",
        "\n",
        "print(test2.shape)\n",
        "\n",
        "print(test3.shape)"
      ],
      "metadata": {
        "id": "c4vsmyKlRUjJ"
      },
      "execution_count": null,
      "outputs": []
    },
    {
      "cell_type": "code",
      "source": [
        "# Data Stats \n",
        "full.describe()"
      ],
      "metadata": {
        "id": "atq8TIWpY5Qs"
      },
      "execution_count": null,
      "outputs": []
    },
    {
      "cell_type": "code",
      "source": [
        "# Check Data Types \n",
        "print(full.dtypes)"
      ],
      "metadata": {
        "id": "kTwHO6vNV-rN"
      },
      "execution_count": null,
      "outputs": []
    },
    {
      "cell_type": "code",
      "source": [
        "# Inspect Unique Values - Continuous Variable \n",
        "full['ID'].unique()"
      ],
      "metadata": {
        "colab": {
          "base_uri": "https://localhost:8080/"
        },
        "id": "AHiMLbK8Wj-M",
        "outputId": "471f35f6-87e0-4d06-f608-58f3c496c874"
      },
      "execution_count": 163,
      "outputs": [
        {
          "output_type": "execute_result",
          "data": {
            "text/plain": [
              "array([    1,     2,     3, ..., 26759, 26760, 26761])"
            ]
          },
          "metadata": {},
          "execution_count": 163
        }
      ]
    },
    {
      "cell_type": "code",
      "source": [
        "# Inspect Unique Values - Categorical Variable \n",
        "full['Race'].unique()"
      ],
      "metadata": {
        "colab": {
          "base_uri": "https://localhost:8080/"
        },
        "id": "0JmKasl7XA95",
        "outputId": "195778bb-6955-47a1-f19b-ec800e8206b8"
      },
      "execution_count": 164,
      "outputs": [
        {
          "output_type": "execute_result",
          "data": {
            "text/plain": [
              "array(['BLACK', 'WHITE'], dtype=object)"
            ]
          },
          "metadata": {},
          "execution_count": 164
        }
      ]
    },
    {
      "cell_type": "code",
      "source": [
        "# Inspect Unique Values - Categorical Variable \n",
        "full['Supervision_Risk_Score_First'].unique()"
      ],
      "metadata": {
        "colab": {
          "base_uri": "https://localhost:8080/"
        },
        "id": "AtxBQrx1XYMk",
        "outputId": "5f1a26fd-5511-47af-f8d7-55bd023b9956"
      },
      "execution_count": 165,
      "outputs": [
        {
          "output_type": "execute_result",
          "data": {
            "text/plain": [
              "array([ 3.,  6.,  7.,  4.,  5.,  2.,  1., 10.,  9.,  8., nan])"
            ]
          },
          "metadata": {},
          "execution_count": 165
        }
      ]
    },
    {
      "cell_type": "markdown",
      "source": [
        "##Visualize Data"
      ],
      "metadata": {
        "id": "UfEK6RjeXuVu"
      }
    },
    {
      "cell_type": "code",
      "source": [
        "# Age at Release Histogram\n",
        "full['Age_at_Release'].iplot(kind='hist', xTitle='Age', yTitle='count', title='Age at Release')"
      ],
      "metadata": {
        "id": "HK5a9KGEXyWv"
      },
      "execution_count": null,
      "outputs": []
    },
    {
      "cell_type": "code",
      "source": [
        "# Gender Box Plot\n",
        "full.pivot(columns='Gender', values='ID').iplot(\n",
        "        kind='box',\n",
        "        yTitle='Number of Inmates',\n",
        "        title='Inmate Distribution by Gender')"
      ],
      "metadata": {
        "id": "e4RzsH1eiuqR"
      },
      "execution_count": null,
      "outputs": []
    },
    {
      "cell_type": "code",
      "source": [
        "# Race Box Plot\n",
        "full.pivot(columns='Race', values='ID').iplot(\n",
        "        kind='box',\n",
        "        yTitle='Number of Inmates',\n",
        "        title='Inmate Distribution by Race')"
      ],
      "metadata": {
        "id": "ehDjbkg9jbL8"
      },
      "execution_count": null,
      "outputs": []
    },
    {
      "cell_type": "markdown",
      "source": [
        "Race and Gender distributions are fairly even "
      ],
      "metadata": {
        "id": "eTuJDqsKky0u"
      }
    },
    {
      "cell_type": "code",
      "source": [
        "# Prior Felony Arrests Box Plot \n",
        "full.pivot(columns='Prior_Arrest_Episodes_Felony', values='ID').iplot(\n",
        "        kind='box',\n",
        "        yTitle='Number of Inmates',\n",
        "        title='Inmate Distribution by Prior Felony Arrests')"
      ],
      "metadata": {
        "id": "1ta6S1l6jj-t"
      },
      "execution_count": null,
      "outputs": []
    },
    {
      "cell_type": "code",
      "source": [
        "# Prior Felony Arrests Box Plot \n",
        "full.pivot(columns='Prior_Arrest_Episodes_Misd', values='ID').iplot(\n",
        "        kind='box',\n",
        "        yTitle='Number of Inmates',\n",
        "        title='Inmate Distribution by Prior Misdemeanor Arrests')"
      ],
      "metadata": {
        "id": "s1VZjSKNkW_g"
      },
      "execution_count": null,
      "outputs": []
    },
    {
      "cell_type": "markdown",
      "source": [
        "Our data set contains a significant number of people who have never been arrested "
      ],
      "metadata": {
        "id": "G_04Mz1ikoli"
      }
    },
    {
      "cell_type": "markdown",
      "source": [
        "#Data Cleaning "
      ],
      "metadata": {
        "id": "9wIiGpfLlFGd"
      }
    },
    {
      "cell_type": "code",
      "source": [
        "# Inspect Missing Values \n",
        "full.isna().sum()"
      ],
      "metadata": {
        "id": "SBIO8mCNmMUd"
      },
      "execution_count": null,
      "outputs": []
    },
    {
      "cell_type": "code",
      "source": [
        "# Drop Drug Features \n",
        "full.drop(columns = ['Avg_Days_per_DrugTest', 'DrugTests_THC_Positive', 'DrugTests_Cocaine_Positive',\n",
        "                    'DrugTests_Meth_Positive', 'DrugTests_Other_Positive'], inplace = True)"
      ],
      "metadata": {
        "id": "l0RPIVD9ml0N"
      },
      "execution_count": 172,
      "outputs": []
    },
    {
      "cell_type": "markdown",
      "source": [
        "These values were dropped due to the significant number of null values "
      ],
      "metadata": {
        "id": "hXJr-ldwnjzF"
      }
    },
    {
      "cell_type": "markdown",
      "source": [
        "#Feature Engineering"
      ],
      "metadata": {
        "id": "Ey3bhllfn8M_"
      }
    },
    {
      "cell_type": "markdown",
      "source": [
        "##One Hot Encoding "
      ],
      "metadata": {
        "id": "c4e_hBswn_AJ"
      }
    },
    {
      "cell_type": "code",
      "source": [
        "# One-Hot Encoding - Categorical, Nonordered Variables \n",
        "one_hot = pd.get_dummies(data = full, columns = ['Gender', 'Race', 'Gang_Affiliated', 'Age_at_Release',\n",
        "                                               'Employment_Exempt',\t'Recidivism_Within_3years',\t'Recidivism_Arrest_Year1',\n",
        "                                               'Recidivism_Arrest_Year2',\t'Recidivism_Arrest_Year3'], drop_first = True)\n",
        "pd.concat([full, one_hot], axis = 1).head()"
      ],
      "metadata": {
        "id": "jIANyGjLn7px"
      },
      "execution_count": null,
      "outputs": []
    },
    {
      "cell_type": "code",
      "source": [
        "# Drop Non Encoded Columns\n",
        "full.drop(columns = ['Gender', 'Race', 'Gang_Affiliated', 'Age_at_Release',\n",
        "                     'Employment_Exempt',\t'Recidivism_Within_3years',\t'Recidivism_Arrest_Year1',\n",
        "                     'Recidivism_Arrest_Year2',\t'Recidivism_Arrest_Year3'], inplace = True)"
      ],
      "metadata": {
        "id": "ffoeJ6L4vlvo"
      },
      "execution_count": null,
      "outputs": []
    },
    {
      "cell_type": "code",
      "source": [
        "# Demographic Data Encoding\n",
        "\n",
        "# Create Encoder Instance \n",
        "le = preprocessing.LabelEncoder()\n",
        "\n",
        "# Supervision Risk Score Encoded \n",
        "full['Supervision_Level_First'] = le.fit_transform(full['Supervision_Level_First'])\n",
        "full['Supervision_Level_First']\n",
        "\n",
        "# Education Level Encoded\n",
        "full['Education_Level'] = le.fit_transform(full['Education_Level'])\n",
        "full['Education_Level']\n",
        "\n",
        "# Number of Dependents Encoded\n",
        "full['Dependents'] = le.fit_transform(full['Dependents'])\n",
        "full['Dependents']"
      ],
      "metadata": {
        "id": "Dno2K17Lp7UA"
      },
      "execution_count": null,
      "outputs": []
    },
    {
      "cell_type": "code",
      "source": [
        "# Prison History Feature Encoding \n",
        "\n",
        "# Prison Offense Encoded\n",
        "full['Prison_Offense'] = le.fit_transform(full['Prison_Offense'])\n",
        "full['Prison_Offense']\n",
        "\n",
        "# Prison Years Encoded\n",
        "full['Prison_Years'] = le.fit_transform(full['Prison_Years'])\n",
        "full['Prison_Years']"
      ],
      "metadata": {
        "id": "zrGZ24vywTWY"
      },
      "execution_count": null,
      "outputs": []
    },
    {
      "cell_type": "code",
      "source": [
        "# Arrests Feature Encoding \n",
        "\n",
        "# Prior Misdemeanor Arrests Encoded\n",
        "full['Prior_Arrest_Episodes_Misd'] = le.fit_transform(full['Prior_Arrest_Episodes_Misd'])\n",
        "full['Prior_Arrest_Episodes_Misd']\n",
        "\n",
        "# Prior Violent Arrests Encoded\n",
        "full['Prior_Arrest_Episodes_Violent'] = le.fit_transform(full['Prior_Arrest_Episodes_Violent'])\n",
        "full['Prior_Arrest_Episodes_Violent']\n",
        "\n",
        "# Prior Property Arrests Encoded\n",
        "full['Prior_Arrest_Episodes_Property'] = le.fit_transform(full['Prior_Arrest_Episodes_Property'])\n",
        "full['Prior_Arrest_Episodes_Property']\n",
        "\n",
        "# Prior Drug Arrests Encoded\n",
        "full['Prior_Arrest_Episodes_Drug'] = le.fit_transform(full['Prior_Arrest_Episodes_Drug'])\n",
        "full['Prior_Arrest_Episodes_Drug']\n",
        "\n",
        "# Prior PPV Violation Arrests Encoded\n",
        "full['Prior_Arrest_Episodes_PPViolationCharges'] = le.fit_transform(full['Prior_Arrest_Episodes_PPViolationCharges'])\n",
        "full['Prior_Arrest_Episodes_PPViolationCharges']\n",
        "\n",
        "# Prior DV Arrests Encoded\n",
        "full['Prior_Arrest_Episodes_DVCharges'] = le.fit_transform(full['Prior_Arrest_Episodes_DVCharges'])\n",
        "full['Prior_Arrest_Episodes_DVCharges']\n",
        "\n",
        "# Prior Gun Arrests Encoded\n",
        "full['Prior_Arrest_Episodes_GunCharges'] = le.fit_transform(full['Prior_Arrest_Episodes_GunCharges'])\n",
        "full['Prior_Arrest_Episodes_GunCharges']"
      ],
      "metadata": {
        "id": "0s559N8dydFo"
      },
      "execution_count": null,
      "outputs": []
    },
    {
      "cell_type": "code",
      "source": [
        "# Convictions Feature Encoding \n",
        "\n",
        "# Prior Felony Convictions Encoded\n",
        "full['Prior_Conviction_Episodes_Felony'] = le.fit_transform(full['Prior_Conviction_Episodes_Felony'])\n",
        "full['Prior_Conviction_Episodes_Felony']\n",
        "\n",
        "# Prior Misdemeanor Convictions Encoded\n",
        "full['Prior_Conviction_Episodes_Misd'] = le.fit_transform(full['Prior_Conviction_Episodes_Misd'])\n",
        "full['Prior_Conviction_Episodes_Misd']\n",
        "\n",
        "# Prior Violent Convictions Encoded\n",
        "full['Prior_Conviction_Episodes_Viol'] = le.fit_transform(full['Prior_Conviction_Episodes_Viol'])\n",
        "full['Prior_Conviction_Episodes_Viol']\n",
        "\n",
        "# Prior Drug Convictions Encoded\n",
        "full['Prior_Conviction_Episodes_Drug'] = le.fit_transform(full['Prior_Conviction_Episodes_Drug'])\n",
        "full['Prior_Conviction_Episodes_Drug']\n",
        "\n",
        "# Prior PPV Convictions Encoded\n",
        "full['Prior_Conviction_Episodes_PPViolationCharges'] = le.fit_transform(full['Prior_Conviction_Episodes_PPViolationCharges'])\n",
        "full['Prior_Conviction_Episodes_PPViolationCharges']\n",
        "\n",
        "# Prior Domestic Violence Convictions Encoded\n",
        "full['Prior_Conviction_Episodes_DomesticViolenceCharges'] = le.fit_transform(full['Prior_Conviction_Episodes_DomesticViolenceCharges'])\n",
        "full['Prior_Conviction_Episodes_DomesticViolenceCharges']\n",
        "\n",
        "# Prior Gun Convictions Encoded\n",
        "full['Prior_Conviction_Episodes_GunCharges'] = le.fit_transform(full['Prior_Conviction_Episodes_GunCharges'])\n",
        "full['Prior_Conviction_Episodes_GunCharges']"
      ],
      "metadata": {
        "id": "9MZF9F1czBGw"
      },
      "execution_count": null,
      "outputs": []
    },
    {
      "cell_type": "code",
      "source": [
        "# Revocations Feature Encoding \n",
        "\n",
        "# Prior Parole Revocations Encoded\n",
        "full['Prior_Revocations_Parole'] = le.fit_transform(full['Prior_Revocations_Parole'])\n",
        "full['Prior_Revocations_Parole']\n",
        "\n",
        "# Prior Probation Revocations Encoded\n",
        "full['Prior_Revocations_Probation'] = le.fit_transform(full['Prior_Revocations_Probation'])\n",
        "full['Prior_Revocations_Probation']"
      ],
      "metadata": {
        "id": "zF82FWx9yShG"
      },
      "execution_count": null,
      "outputs": []
    },
    {
      "cell_type": "code",
      "source": [
        "# Violations Feature Encoding \n",
        "\n",
        "# Prior Instruction Violations Encoded\n",
        "full['Violations_Instruction'] = le.fit_transform(full['Violations_Instruction'])\n",
        "full['Violations_Instruction']\n",
        "\n",
        "# Prior Fail to Report Violations Encoded\n",
        "full['Violations_FailToReport'] = le.fit_transform(full['Violations_FailToReport'])\n",
        "full['Violations_FailToReport']\n",
        "\n",
        "# Prior Move w/o Permission Violations Encoded\n",
        "full['Violations_MoveWithoutPermission'] = le.fit_transform(full['Violations_MoveWithoutPermission'])\n",
        "full['Violations_MoveWithoutPermission']"
      ],
      "metadata": {
        "id": "k3y3C7dNzjKa"
      },
      "execution_count": null,
      "outputs": []
    },
    {
      "cell_type": "code",
      "source": [
        "# Other Parole Related Features \n",
        "\n",
        "# Delinquency Reports Encoded\n",
        "full['Delinquency_Reports'] = le.fit_transform(full['Delinquency_Reports'])\n",
        "full['Delinquency_Reports']\n",
        "\n",
        "# Program Attendances Encoded\n",
        "full['Program_Attendances'] = le.fit_transform(full['Program_Attendances'])\n",
        "full['Program_Attendances']\n",
        "\n",
        "# Program Unexcused Absences Encoded\n",
        "full['Program_UnexcusedAbsences'] = le.fit_transform(full['Program_UnexcusedAbsences'])\n",
        "full['Program_UnexcusedAbsences']\n",
        "\n",
        "# Residence Changes Encoded\n",
        "full['Residence_Changes'] = le.fit_transform(full['Residence_Changes'])\n",
        "full['Residence_Changes']"
      ],
      "metadata": {
        "id": "QgyWux6uzsNC"
      },
      "execution_count": null,
      "outputs": []
    },
    {
      "cell_type": "code",
      "source": [
        "\"\"\"\n",
        "'Prior_Arrest_Episodes_Violent',\n",
        "       'Prior_Arrest_Episodes_Property', 'Prior_Arrest_Episodes_Drug',\n",
        "       'Prior_Arrest_Episodes_PPViolationCharges',\n",
        "       'Prior_Arrest_Episodes_DVCharges', 'Prior_Arrest_Episodes_GunCharges',\n",
        "       'Prior_Conviction_Episodes_Felony', 'Prior_Conviction_Episodes_Misd',\n",
        "       'Prior_Conviction_Episodes_Viol', 'Prior_Conviction_Episodes_Prop',\n",
        "       'Prior_Conviction_Episodes_Drug',\n",
        "       'Prior_Conviction_Episodes_PPViolationCharges',\n",
        "       'Prior_Conviction_Episodes_DomesticViolenceCharges',\n",
        "       'Prior_Conviction_Episodes_GunCharges', 'Prior_Revocations_Parole',\n",
        "       'Prior_Revocations_Probation'\n",
        "\"\"\""
      ],
      "metadata": {
        "id": "nixWePG9xBb1"
      },
      "execution_count": null,
      "outputs": []
    },
    {
      "cell_type": "code",
      "source": [
        "full.dtypes"
      ],
      "metadata": {
        "id": "-S2CEbUGrfiM"
      },
      "execution_count": null,
      "outputs": []
    }
  ]
}